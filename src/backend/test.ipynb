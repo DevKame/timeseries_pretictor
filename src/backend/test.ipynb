{
 "cells": [
  {
   "cell_type": "code",
   "execution_count": 1,
   "metadata": {},
   "outputs": [],
   "source": [
    "import pandas as pd\n",
    "import numpy as np\n",
    "import torch\n",
    "import torch.nn as nn\n",
    "from torch.utils.data import Dataset, DataLoader\n",
    "from sklearn.preprocessing import MinMaxScaler"
   ]
  },
  {
   "cell_type": "code",
   "execution_count": 3,
   "metadata": {},
   "outputs": [],
   "source": [
    "# Load CSV data\n",
    "data = pd.read_csv('./DailyDelhiClimateTrain.csv')\n",
    "\n",
    "# Convert date column to datetime\n",
    "data['date'] = pd.to_datetime(data['date'])\n",
    "\n",
    "# Normalize data\n",
    "scaler = MinMaxScaler()\n",
    "data[['meantemp', 'humidity', 'wind_speed', 'meanpressure']] = scaler.fit_transform(data[['meantemp', 'humidity', 'wind_speed', 'meanpressure']])\n",
    "\n",
    "# Define sequence length\n",
    "sequence_length = 7\n",
    "\n",
    "# Create sequences for time series data\n",
    "def create_sequences(data, sequence_length):\n",
    "    X, y = [], []\n",
    "    for i in range(len(data) - sequence_length):\n",
    "        X.append(data[i:(i + sequence_length)])\n",
    "        y.append(data[i + sequence_length])\n",
    "    return np.array(X), np.array(y)\n",
    "\n",
    "# Create sequences\n",
    "X, y = create_sequences(data[['meantemp', 'humidity', 'wind_speed', 'meanpressure']].values, sequence_length)\n",
    "\n",
    "# Convert to PyTorch tensors\n",
    "X_tensor = torch.Tensor(X)\n",
    "y_tensor = torch.Tensor(y)"
   ]
  },
  {
   "cell_type": "code",
   "execution_count": 4,
   "metadata": {},
   "outputs": [],
   "source": [
    "class LSTM(nn.Module):\n",
    "    def __init__(self, input_size, hidden_size, num_layers, output_size):\n",
    "        super(LSTM, self).__init__()\n",
    "        self.hidden_size = hidden_size\n",
    "        self.num_layers = num_layers\n",
    "        self.lstm = nn.LSTM(input_size, hidden_size, num_layers, batch_first=True)\n",
    "        self.fc = nn.Linear(hidden_size, output_size)\n",
    "\n",
    "    def forward(self, x):\n",
    "        h0 = torch.zeros(self.num_layers, x.size(0), self.hidden_size).to(device)\n",
    "        c0 = torch.zeros(self.num_layers, x.size(0), self.hidden_size).to(device)\n",
    "        out, _ = self.lstm(x, (h0, c0))\n",
    "        out = self.fc(out[:, -1, :])\n",
    "        return out"
   ]
  },
  {
   "cell_type": "code",
   "execution_count": 7,
   "metadata": {},
   "outputs": [
    {
     "name": "stdout",
     "output_type": "stream",
     "text": [
      "device: cpu\n"
     ]
    }
   ],
   "source": [
    "device = torch.device('cuda' if torch.cuda.is_available() else 'cpu')\n",
    "print(\"device:\",device)\n",
    "\n",
    "input_size = 4 # Number of features\n",
    "hidden_size = 64\n",
    "num_layers = 2\n",
    "output_size = 4 # Same as input size\n",
    "\n",
    "model = LSTM(input_size, hidden_size, num_layers, output_size).to(device)\n",
    "\n",
    "criterion = nn.MSELoss()\n",
    "optimizer = torch.optim.Adam(model.parameters(), lr=0.001)\n"
   ]
  },
  {
   "cell_type": "code",
   "execution_count": 8,
   "metadata": {},
   "outputs": [
    {
     "name": "stdout",
     "output_type": "stream",
     "text": [
      "Epoch [10/100], Loss: 0.0132\n",
      "Epoch [20/100], Loss: 0.0087\n",
      "Epoch [30/100], Loss: 0.0078\n",
      "Epoch [40/100], Loss: 0.0081\n",
      "Epoch [50/100], Loss: 0.0079\n",
      "Epoch [60/100], Loss: 0.0079\n",
      "Epoch [70/100], Loss: 0.0080\n",
      "Epoch [80/100], Loss: 0.0075\n",
      "Epoch [90/100], Loss: 0.0072\n",
      "Epoch [100/100], Loss: 0.0077\n"
     ]
    }
   ],
   "source": [
    "num_epochs = 100\n",
    "batch_size = 16\n",
    "\n",
    "for epoch in range(num_epochs):\n",
    "    for i in range(0, len(X_tensor), batch_size):\n",
    "        inputs = X_tensor[i:i+batch_size].to(device)\n",
    "        targets = y_tensor[i:i+batch_size].to(device)\n",
    "\n",
    "        # Forward pass\n",
    "        outputs = model(inputs)\n",
    "        loss = criterion(outputs, targets)\n",
    "\n",
    "        # Backward and optimize\n",
    "        optimizer.zero_grad()\n",
    "        loss.backward()\n",
    "        optimizer.step()\n",
    "\n",
    "    if (epoch+1) % 10 == 0:\n",
    "        print(f'Epoch [{epoch+1}/{num_epochs}], Loss: {loss.item():.4f}')\n"
   ]
  },
  {
   "cell_type": "code",
   "execution_count": 9,
   "metadata": {},
   "outputs": [],
   "source": [
    "model.eval()\n",
    "with torch.no_grad():\n",
    "    inputs = X_tensor[-1].unsqueeze(0).to(device) # Take the last sequence as input\n",
    "    future = 30 # Predict future 30 days\n",
    "    for i in range(future):\n",
    "        pred = model(inputs)\n",
    "        inputs = torch.cat((inputs[:,1:,:], pred.unsqueeze(0)), dim=1)\n",
    "\n",
    "    predicted_values = inputs.squeeze(0).cpu().numpy()\n"
   ]
  },
  {
   "cell_type": "code",
   "execution_count": 10,
   "metadata": {},
   "outputs": [
    {
     "name": "stdout",
     "output_type": "stream",
     "text": [
      "[[0.49920207 0.65650034 0.15820476 0.13198799]\n",
      " [0.5137746  0.6548617  0.15875253 0.13193941]\n",
      " [0.529092   0.6534804  0.15932463 0.13187662]\n",
      " [0.5451319  0.65243495 0.15992114 0.13179609]\n",
      " [0.5618444  0.65182185 0.16054174 0.1316935 ]\n",
      " [0.5791468  0.65175796 0.16118506 0.13156378]\n",
      " [0.59692067 0.6523802  0.16184762 0.13140136]]\n"
     ]
    }
   ],
   "source": [
    "print(predicted_values)"
   ]
  },
  {
   "cell_type": "code",
   "execution_count": 11,
   "metadata": {},
   "outputs": [
    {
     "name": "stdout",
     "output_type": "stream",
     "text": [
      "[[  22.33104     70.26274      6.679405  1010.9396   ]\n",
      " [  22.807768    70.12088      6.702532  1010.5664   ]\n",
      " [  23.308867    70.001305     6.726686  1010.084    ]\n",
      " [  23.833601    69.9108       6.7518706 1009.4654   ]\n",
      " [  24.380339    69.85772      6.7780724 1008.6772   ]\n",
      " [  24.946375    69.85219      6.805233  1007.68066  ]\n",
      " [  25.527834    69.90606      6.8332067 1006.43286  ]]\n"
     ]
    }
   ],
   "source": [
    "# Invert scaling for predicted values\n",
    "predicted_values_unscaled = scaler.inverse_transform(predicted_values)\n",
    "print(predicted_values_unscaled)"
   ]
  },
  {
   "cell_type": "code",
   "execution_count": 13,
   "metadata": {},
   "outputs": [
    {
     "name": "stdout",
     "output_type": "stream",
     "text": [
      "Test Loss: 0.0049\n"
     ]
    }
   ],
   "source": [
    "# Load test CSV data\n",
    "test_data = pd.read_csv('./DailyDelhiClimateTest.csv')\n",
    "\n",
    "# Convert date column to datetime\n",
    "test_data['date'] = pd.to_datetime(test_data['date'])\n",
    "\n",
    "# Normalize test data using the same scaler used for training data\n",
    "test_data[['meantemp', 'humidity', 'wind_speed', 'meanpressure']] = scaler.transform(test_data[['meantemp', 'humidity', 'wind_speed', 'meanpressure']])\n",
    "\n",
    "# Create sequences for test data\n",
    "X_test, y_test = create_sequences(test_data[['meantemp', 'humidity', 'wind_speed', 'meanpressure']].values, sequence_length)\n",
    "\n",
    "# Convert to PyTorch tensors\n",
    "X_test_tensor = torch.Tensor(X_test)\n",
    "y_test_tensor = torch.Tensor(y_test)\n",
    "\n",
    "model.eval()\n",
    "with torch.no_grad():\n",
    "    test_inputs = X_test_tensor.to(device)\n",
    "    test_targets = y_test_tensor.to(device)\n",
    "\n",
    "    test_outputs = model(test_inputs)\n",
    "    test_loss = criterion(test_outputs, test_targets)\n",
    "\n",
    "print(f'Test Loss: {test_loss.item():.4f}')\n",
    "\n",
    "with torch.no_grad():\n",
    "    test_inputs = X_test_tensor.to(device)\n",
    "    test_outputs = model(test_inputs)\n",
    "\n",
    "    # Invert scaling for test predictions\n",
    "    test_predictions = scaler.inverse_transform(test_outputs.cpu().numpy())\n"
   ]
  }
 ],
 "metadata": {
  "kernelspec": {
   "display_name": "venv",
   "language": "python",
   "name": "python3"
  },
  "language_info": {
   "codemirror_mode": {
    "name": "ipython",
    "version": 3
   },
   "file_extension": ".py",
   "mimetype": "text/x-python",
   "name": "python",
   "nbconvert_exporter": "python",
   "pygments_lexer": "ipython3",
   "version": "3.10.12"
  }
 },
 "nbformat": 4,
 "nbformat_minor": 2
}
